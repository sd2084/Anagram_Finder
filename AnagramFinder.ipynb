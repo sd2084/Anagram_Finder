{
  "nbformat": 4,
  "nbformat_minor": 0,
  "metadata": {
    "colab": {
      "provenance": [],
      "authorship_tag": "ABX9TyM5c6nPEHLMV+NBR01uki2H",
      "include_colab_link": true
    },
    "kernelspec": {
      "name": "python3",
      "display_name": "Python 3"
    },
    "language_info": {
      "name": "python"
    }
  },
  "cells": [
    {
      "cell_type": "markdown",
      "metadata": {
        "id": "view-in-github",
        "colab_type": "text"
      },
      "source": [
        "<a href=\"https://colab.research.google.com/github/sd2084/Anagram_Finder/blob/main/AnagramFinder.ipynb\" target=\"_parent\"><img src=\"https://colab.research.google.com/assets/colab-badge.svg\" alt=\"Open In Colab\"/></a>"
      ]
    },
    {
      "cell_type": "code",
      "source": [
        "# Define a function to check if two words are anagrams of each other.\n",
        "def is_anagram(word1, word2):\n",
        "    # Convert both words to lowercase and sort the characters.\n",
        "    return sorted(word1.lower()) == sorted(word2.lower())\n",
        "\n",
        "# Define a function to find anagrams in a list of words.\n",
        "def find_anagrams(words):\n",
        "    # Create lists to store the found anagrams and non-anagrams.\n",
        "    anagrams = []\n",
        "    non_anagrams = []\n",
        "\n",
        "    # Set to keep track of words that have already been processed.\n",
        "    recorded = set()\n",
        "\n",
        "    # Loop through the list of words.\n",
        "    for i in range(len(words)):\n",
        "        # If the current word has not been processed before:\n",
        "        if words[i] not in recorded:\n",
        "            # Create a list to store the current anagram group starting with the current word.\n",
        "            current_anagram = [words[i]]\n",
        "\n",
        "            # Loop through the rest of the words to find anagrams of the current word.\n",
        "            for j in range(i + 1, len(words)):\n",
        "                # If the current word is an anagram of the initial word:\n",
        "                if is_anagram(words[i], words[j]):\n",
        "                    # Add the anagram to the current_anagram list and mark it as recorded.\n",
        "                    current_anagram.append(words[j])\n",
        "                    recorded.add(words[j])\n",
        "\n",
        "            # If there are more than one words in the current_anagram list, it is an anagram group.\n",
        "            if len(current_anagram) > 1:\n",
        "                # Add the anagram group to the 'anagrams' list.\n",
        "                anagrams.append(current_anagram)\n",
        "            else:\n",
        "                # If there's only one word in the current_anagram list, it's not an anagram.\n",
        "                # Add it to the 'non_anagrams' list.\n",
        "                non_anagrams.append(words[i])\n",
        "\n",
        "    # Return the found anagrams and non-anagrams.\n",
        "    return anagrams, non_anagrams\n",
        "\n",
        "if __name__ == \"__main__\":\n",
        "    # Main section of the code.\n",
        "    print(\"Anagram Finder\")\n",
        "    print(\"Enter a list of words separated by spaces:\")\n",
        "    user_input = input().strip() # Get user input from the console, and remove any leading/trailing whitespace.\n",
        "    word_list = user_input.split() # Split the user's input into individual words based on spaces and store them in a list.\n",
        "\n",
        "    # Call the find_anagrams function to get the anagram and non-anagram lists.\n",
        "    anagrams, non_anagrams = find_anagrams(word_list)\n",
        "\n",
        "    # Print the results.\n",
        "    print(\"Anagrams are:\", anagrams)\n",
        "    print(\"Non-Anagrams are:\", non_anagrams)\n"
      ],
      "metadata": {
        "colab": {
          "base_uri": "https://localhost:8080/"
        },
        "id": "9sXMQHV3Mo6L",
        "outputId": "80410e63-3a4e-490f-d9bb-be19998cc3b5"
      },
      "execution_count": 3,
      "outputs": [
        {
          "output_type": "stream",
          "name": "stdout",
          "text": [
            "Anagram Finder\n",
            "Enter a list of words separated by spaces:\n",
            "eat triangle race integral tea silent hello listen ate \n",
            "Anagrams are: [['eat', 'tea', 'ate'], ['triangle', 'integral'], ['silent', 'listen']]\n",
            "Non-Anagrams are: ['race', 'hello']\n"
          ]
        }
      ]
    }
  ]
}